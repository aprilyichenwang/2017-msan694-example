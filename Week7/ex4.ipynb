{
 "cells": [
  {
   "cell_type": "code",
   "execution_count": 1,
   "metadata": {
    "collapsed": true
   },
   "outputs": [],
   "source": [
    "from pyspark import SparkContext\n",
    "sc = SparkContext.getOrCreate()"
   ]
  },
  {
   "cell_type": "code",
   "execution_count": 2,
   "metadata": {
    "collapsed": false
   },
   "outputs": [],
   "source": [
    "import csv\n",
    "import StringIO"
   ]
  },
  {
   "cell_type": "code",
   "execution_count": 3,
   "metadata": {
    "collapsed": false
   },
   "outputs": [],
   "source": [
    "input = sc.textFile(\"../Data/supervisor_sf.csv\")"
   ]
  },
  {
   "cell_type": "code",
   "execution_count": 4,
   "metadata": {
    "collapsed": false
   },
   "outputs": [],
   "source": [
    "def csvLoader(line):\n",
    "    input = StringIO.StringIO(line)\n",
    "    reader = csv.DictReader(input, fieldnames=[\"Zip\",\"Supervisor\"])\n",
    "    return reader.next()"
   ]
  },
  {
   "cell_type": "code",
   "execution_count": 5,
   "metadata": {
    "collapsed": false
   },
   "outputs": [],
   "source": [
    "csv_data = input.map(csvLoader)"
   ]
  },
  {
   "cell_type": "code",
   "execution_count": 6,
   "metadata": {
    "collapsed": false
   },
   "outputs": [
    {
     "data": {
      "text/plain": [
       "[{'Supervisor': '8', 'Zip': '94102'},\n",
       " {'Supervisor': '6', 'Zip': '94102'},\n",
       " {'Supervisor': '3', 'Zip': '94102'},\n",
       " {'Supervisor': '5', 'Zip': '94102'},\n",
       " {'Supervisor': '8', 'Zip': '94103'},\n",
       " {'Supervisor': '9', 'Zip': '94103'},\n",
       " {'Supervisor': '10', 'Zip': '94103'},\n",
       " {'Supervisor': '6', 'Zip': '94103'},\n",
       " {'Supervisor': '3', 'Zip': '94103'},\n",
       " {'Supervisor': '5', 'Zip': '94103'},\n",
       " {'Supervisor': '6', 'Zip': '94104'},\n",
       " {'Supervisor': '3', 'Zip': '94104'},\n",
       " {'Supervisor': '6', 'Zip': '94105'},\n",
       " {'Supervisor': '3', 'Zip': '94105'},\n",
       " {'Supervisor': '10', 'Zip': '94107'},\n",
       " {'Supervisor': '6', 'Zip': '94107'},\n",
       " {'Supervisor': '6', 'Zip': '94108'},\n",
       " {'Supervisor': '3', 'Zip': '94108'},\n",
       " {'Supervisor': '2', 'Zip': '94109'},\n",
       " {'Supervisor': '6', 'Zip': '94109'},\n",
       " {'Supervisor': '3', 'Zip': '94109'},\n",
       " {'Supervisor': '5', 'Zip': '94109'},\n",
       " {'Supervisor': '8', 'Zip': '94110'},\n",
       " {'Supervisor': '11', 'Zip': '94110'},\n",
       " {'Supervisor': '9', 'Zip': '94110'},\n",
       " {'Supervisor': '10', 'Zip': '94110'},\n",
       " {'Supervisor': '6', 'Zip': '94111'},\n",
       " {'Supervisor': '3', 'Zip': '94111'},\n",
       " {'Supervisor': '7', 'Zip': '94112'},\n",
       " {'Supervisor': '8', 'Zip': '94112'},\n",
       " {'Supervisor': '11', 'Zip': '94112'},\n",
       " {'Supervisor': '9', 'Zip': '94112'},\n",
       " {'Supervisor': '10', 'Zip': '94112'},\n",
       " {'Supervisor': '7', 'Zip': '94114'},\n",
       " {'Supervisor': '8', 'Zip': '94114'},\n",
       " {'Supervisor': '5', 'Zip': '94114'},\n",
       " {'Supervisor': '2', 'Zip': '94115'},\n",
       " {'Supervisor': '1', 'Zip': '94115'},\n",
       " {'Supervisor': '5', 'Zip': '94115'},\n",
       " {'Supervisor': '7', 'Zip': '94116'},\n",
       " {'Supervisor': '4', 'Zip': '94116'},\n",
       " {'Supervisor': '1', 'Zip': '94117'},\n",
       " {'Supervisor': '7', 'Zip': '94117'},\n",
       " {'Supervisor': '8', 'Zip': '94117'},\n",
       " {'Supervisor': '5', 'Zip': '94117'},\n",
       " {'Supervisor': '2', 'Zip': '94118'},\n",
       " {'Supervisor': '1', 'Zip': '94118'},\n",
       " {'Supervisor': '5', 'Zip': '94118'},\n",
       " {'Supervisor': '2', 'Zip': '94121'},\n",
       " {'Supervisor': '1', 'Zip': '94121'},\n",
       " {'Supervisor': '1', 'Zip': '94122'},\n",
       " {'Supervisor': '7', 'Zip': '94122'},\n",
       " {'Supervisor': '5', 'Zip': '94122'},\n",
       " {'Supervisor': '4', 'Zip': '94122'},\n",
       " {'Supervisor': '2', 'Zip': '94123'},\n",
       " {'Supervisor': '9', 'Zip': '94124'},\n",
       " {'Supervisor': '10', 'Zip': '94124'},\n",
       " {'Supervisor': '7', 'Zip': '94127'},\n",
       " {'Supervisor': '8', 'Zip': '94127'},\n",
       " {'Supervisor': '11', 'Zip': '94127'},\n",
       " {'Supervisor': '2', 'Zip': '94129'},\n",
       " {'Supervisor': '6', 'Zip': '94130'},\n",
       " {'Supervisor': '7', 'Zip': '94131'},\n",
       " {'Supervisor': '8', 'Zip': '94131'},\n",
       " {'Supervisor': '5', 'Zip': '94131'},\n",
       " {'Supervisor': '7', 'Zip': '94132'},\n",
       " {'Supervisor': '11', 'Zip': '94132'},\n",
       " {'Supervisor': '4', 'Zip': '94132'},\n",
       " {'Supervisor': '2', 'Zip': '94133'},\n",
       " {'Supervisor': '3', 'Zip': '94133'},\n",
       " {'Supervisor': '11', 'Zip': '94134'},\n",
       " {'Supervisor': '9', 'Zip': '94134'},\n",
       " {'Supervisor': '10', 'Zip': '94134'},\n",
       " {'Supervisor': '10', 'Zip': '94158'},\n",
       " {'Supervisor': '6', 'Zip': '94158'}]"
      ]
     },
     "execution_count": 6,
     "metadata": {},
     "output_type": "execute_result"
    }
   ],
   "source": [
    "csv_data.collect()"
   ]
  },
  {
   "cell_type": "code",
   "execution_count": null,
   "metadata": {
    "collapsed": false
   },
   "outputs": [],
   "source": [
    "sf_supervisor = csv_data.filter(lambda x :  (x['Zip']).startswith('94'))"
   ]
  },
  {
   "cell_type": "code",
   "execution_count": null,
   "metadata": {
    "collapsed": false
   },
   "outputs": [],
   "source": [
    "sf_supervisor.collect()"
   ]
  },
  {
   "cell_type": "code",
   "execution_count": null,
   "metadata": {
    "collapsed": true
   },
   "outputs": [],
   "source": []
  }
 ],
 "metadata": {
  "anaconda-cloud": {},
  "kernelspec": {
   "display_name": "Python [Root]",
   "language": "python",
   "name": "Python [Root]"
  },
  "language_info": {
   "codemirror_mode": {
    "name": "ipython",
    "version": 2
   },
   "file_extension": ".py",
   "mimetype": "text/x-python",
   "name": "python",
   "nbconvert_exporter": "python",
   "pygments_lexer": "ipython2",
   "version": "2.7.12"
  }
 },
 "nbformat": 4,
 "nbformat_minor": 0
}
